{
 "cells": [
  {
   "cell_type": "code",
   "execution_count": 18,
   "metadata": {},
   "outputs": [
    {
     "name": "stdout",
     "output_type": "stream",
     "text": [
      "    |    |    \n",
      "----|----|----\n",
      "    |    |    \n",
      "----|----|----\n",
      "    |    |    \n",
      "\n"
     ]
    }
   ],
   "source": [
    "#format the table\n",
    "#\\n creates a new line\n",
    "\n",
    "\n",
    "\n",
    "\n",
    "print(\n",
    "    \n",
    "    '    |    |    \\n'\n",
    "    '----|----|----\\n'\n",
    "    '    |    |    \\n'\n",
    "    '----|----|----\\n'\n",
    "    '    |    |    \\n'\n",
    ")"
   ]
  },
  {
   "cell_type": "code",
   "execution_count": 100,
   "metadata": {},
   "outputs": [
    {
     "name": "stdout",
     "output_type": "stream",
     "text": [
      "hello    1\n"
     ]
    }
   ],
   "source": [
    "# IDEA: use dictionary for to assign list to variables, then use f string to input the list to board\n",
    "#initial tests\n",
    "my_dict={'a1':1,'a2':2}\n",
    "my_dict['a1']\n",
    "\n",
    "value=[1,2,3]\n",
    "key=['k1','k2','k3']\n",
    "\n",
    "l=dict(zip(key,value))\n",
    "\n",
    "l['k1']\n",
    "\n",
    "print(f'hello { l[\"k1\"]}')"
   ]
  },
  {
   "cell_type": "code",
   "execution_count": 118,
   "metadata": {},
   "outputs": [
    {
     "name": "stdout",
     "output_type": "stream",
     "text": [
      "# |  X  |  O\n",
      "        |          |        \n",
      " \n"
     ]
    }
   ],
   "source": [
    "def display_board(board):\n",
    "    #we have 3x3=9 elements in our board list, so need 9 variables for each element in list\n",
    "    numpad=list(range(0,10))\n",
    "    #now we zip number pad with board list sing zip():\n",
    "    d=dict(zip(numpad,board))\n",
    "    #now input the board list into table using f-string:\n",
    "    print(\n",
    "    \n",
    "    f'{d[0]} |  {d[1]}  |  {d[2]}\\n'\n",
    "    '        |          |        \\n '\n",
    ")\n",
    "    \n",
    "    \n",
    "\n",
    "board=['#','X','O','X','O','X','O','X','O','X']\n",
    "display_board(board)"
   ]
  },
  {
   "cell_type": "code",
   "execution_count": 61,
   "metadata": {},
   "outputs": [
    {
     "data": {
      "text/plain": [
       "[0, 1, 2, 3, 4, 5, 6, 7, 8, 9]"
      ]
     },
     "execution_count": 61,
     "metadata": {},
     "output_type": "execute_result"
    }
   ],
   "source": []
  },
  {
   "cell_type": "code",
   "execution_count": null,
   "metadata": {},
   "outputs": [],
   "source": []
  }
 ],
 "metadata": {
  "kernelspec": {
   "display_name": "Python 3",
   "language": "python",
   "name": "python3"
  },
  "language_info": {
   "codemirror_mode": {
    "name": "ipython",
    "version": 3
   },
   "file_extension": ".py",
   "mimetype": "text/x-python",
   "name": "python",
   "nbconvert_exporter": "python",
   "pygments_lexer": "ipython3",
   "version": "3.7.4"
  }
 },
 "nbformat": 4,
 "nbformat_minor": 2
}
