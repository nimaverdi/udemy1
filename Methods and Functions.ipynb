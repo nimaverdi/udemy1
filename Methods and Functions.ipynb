{
 "cells": [
  {
   "cell_type": "code",
   "execution_count": 4,
   "metadata": {},
   "outputs": [
    {
     "name": "stdout",
     "output_type": "stream",
     "text": [
      "Help on built-in function insert:\n",
      "\n",
      "insert(index, object, /) method of builtins.list instance\n",
      "    Insert object before index.\n",
      "\n"
     ]
    }
   ],
   "source": [
    "#METHODS\n",
    "#Discovering methods\n",
    "\n",
    "#1) . + tab key\n",
    "\n",
    "mylist=[1,2,3]\n",
    "#mylist.\n",
    "\n",
    "\n",
    "#2) insert method\n",
    " \n",
    "help(mylist.insert) # built in help function to get documentatin on object\n",
    "\n",
    "#3) python documentation\n",
    "\n"
   ]
  },
  {
   "cell_type": "code",
   "execution_count": 19,
   "metadata": {},
   "outputs": [
    {
     "name": "stdout",
     "output_type": "stream",
     "text": [
      "Hello\n",
      "Help on function name_function in module __main__:\n",
      "\n",
      "name_function()\n",
      "    information about the function\n",
      "    input:\n",
      "    output\n",
      "\n"
     ]
    },
    {
     "data": {
      "text/plain": [
       "'Hello Jose'"
      ]
     },
     "execution_count": 19,
     "metadata": {},
     "output_type": "execute_result"
    }
   ],
   "source": [
    "#FUNCTIONS\n",
    "\n",
    "#functions allow us to execute code many times without rewriting\n",
    "#essentially store a code's logic for future use\n",
    "\n",
    "#general snytax:\n",
    "\n",
    "\n",
    "# def name_of_function():\n",
    "    #'''\n",
    "    #Docstring explains function\n",
    "    #'''\n",
    "    #print('Code')\n",
    "\n",
    "#use return() to output function\n",
    "#return can assign output of function to another variable\n",
    "\n",
    "def name_function():\n",
    "    '''\n",
    "    information about the function\n",
    "    input:\n",
    "    output\n",
    "    '''\n",
    "    print('Hello')\n",
    "    \n",
    "name_function()\n",
    "\n",
    "help(name_function) #get docstring notes\n",
    "\n",
    "#above function doesn't have input variables. We can also add them like below example\n",
    "\n",
    "\n",
    "\n",
    "def function_name(name):\n",
    "    '''\n",
    "    output: Hello + name\n",
    "    '''\n",
    "    return('Hello '+ name )\n",
    "    \n",
    "#now we define input variable \"name\":\n",
    "\n",
    "name='Jose'\n",
    "\n",
    "function_name(name)\n",
    "\n",
    "result=function_name(name) # this is how return() assigns output to new variable\n",
    "result\n",
    "\n"
   ]
  },
  {
   "cell_type": "code",
   "execution_count": 37,
   "metadata": {},
   "outputs": [
    {
     "data": {
      "text/plain": [
       "'arcay'"
      ]
     },
     "execution_count": 37,
     "metadata": {},
     "output_type": "execute_result"
    }
   ],
   "source": [
    "# pig latin\n",
    "\n",
    "def pig_latin(mystring):\n",
    "    if mystring[0] in 'aeiou':\n",
    "        return(mystring+'ay')\n",
    "    else:\n",
    "        return(mystring[1:]+mystring[0]+'ay')\n",
    "    \n",
    "\n",
    "pig_latin('car')"
   ]
  },
  {
   "cell_type": "code",
   "execution_count": 44,
   "metadata": {},
   "outputs": [
    {
     "data": {
      "text/plain": [
       "False"
      ]
     },
     "execution_count": 44,
     "metadata": {},
     "output_type": "execute_result"
    }
   ],
   "source": [
    "def myfunc(a):\n",
    "    if a:\n",
    "        return('Hello')\n",
    "    else:\n",
    "        return('Goodbye')\n",
    "    \n",
    "a=1>2"
   ]
  },
  {
   "cell_type": "code",
   "execution_count": 51,
   "metadata": {},
   "outputs": [
    {
     "name": "stdout",
     "output_type": "stream",
     "text": [
      "Give me muffin\n"
     ]
    }
   ],
   "source": [
    "## LECTURE 43: *args (arguments) and **kwargs (keyword arguments)\n",
    "\n",
    "# *args allows you to add arbitrary number of input variables to a func w/o defining them\n",
    "# makes function more flexible\n",
    "# in prev examples, we defined inpits as myfunc(a,b)\n",
    "# args doesn't need us to do that\n",
    "#example:\n",
    "\n",
    "def myfunc(*args):\n",
    "    return(sum(args)*2)\n",
    "    \n",
    "myfunc(1,2)    \n",
    "\n",
    "# when calling function, you can use arbitrary nr of inputs -- args is placeholder for inputs\n",
    "\n",
    "#--------\n",
    "\n",
    "# **kwargs\n",
    "\n",
    "# define a dictionary of key value pairs as the input to function\n",
    "# so for given keyword, i want to use its value as function input\n",
    "\n",
    "def myfunc(**kwargs):\n",
    "    print('Give me {}'.format(kwargs['food']))\n",
    "    \n",
    "myfunc(food='muffin')\n",
    "\n",
    "\n",
    "\n",
    "\n",
    "\n",
    "\n",
    "\n"
   ]
  },
  {
   "cell_type": "code",
   "execution_count": 62,
   "metadata": {},
   "outputs": [
    {
     "name": "stdout",
     "output_type": "stream",
     "text": [
      "1\n",
      "4\n",
      "9\n",
      "16\n",
      "25\n"
     ]
    }
   ],
   "source": [
    "#LAMBDA EXPRESSIONS, MAP AND FILTERS\n",
    "\n",
    "#Lambda expressions\n",
    "#one time use functions\n",
    "\n",
    "#MAP allows you to map function against elements to perform the function on\n",
    "\n",
    "def square(num):\n",
    "    return(num**2)\n",
    "\n",
    "#square([1,2]) # this won't square elements. need to use for loop\n",
    "              # and tell it to use function on each element\n",
    "    \n",
    "#so maps function against list of elements to perform function on\n",
    "\n",
    "#GENERAL SYNTAX:\n",
    "\n",
    "    #map(function_name,list_name)\n",
    "    \n",
    "#example\n",
    "\n",
    "nums_list=[1,2,3,4,5] #i want to perform fct above on each element\n",
    "list(map(square,nums_list)) #list() to output the data as a list\n",
    "\n",
    "# ( can also iterate through map with for loop to print results )\n",
    "for i in map(square,nums_list):\n",
    "    print(i)"
   ]
  },
  {
   "cell_type": "code",
   "execution_count": 69,
   "metadata": {},
   "outputs": [
    {
     "data": {
      "text/plain": [
       "[2, 4, 6]"
      ]
     },
     "execution_count": 69,
     "metadata": {},
     "output_type": "execute_result"
    }
   ],
   "source": [
    "#FILTER\n",
    "\n",
    "#filter those data in a set which match a function's conditions\n",
    "\n",
    "def cond(num):\n",
    "    if num%2==0:\n",
    "        return(num)\n",
    "\n",
    "num_list=(1,2,3,4,5,6)\n",
    "list(filter(cond,num_list)) # filter the even data\n",
    "\n"
   ]
  },
  {
   "cell_type": "code",
   "execution_count": 75,
   "metadata": {},
   "outputs": [
    {
     "data": {
      "text/plain": [
       "[2, 4]"
      ]
     },
     "execution_count": 75,
     "metadata": {},
     "output_type": "execute_result"
    }
   ],
   "source": [
    "#LAMBDA EXPRESSIONS (anonymous function)\n",
    "\n",
    "#one time functions\n",
    "#used to reduce code\n",
    "\n",
    "#general syntax:\n",
    "\n",
    "#lambda variable: function\n",
    "\n",
    "lambda num: num**2 # this func squares num\n",
    "\n",
    "#can be used in conunction with maps and filter:\n",
    "\n",
    "#maps\n",
    "my_nums=[1,2,3,4,5]\n",
    "list(map(lambda num: num**2,my_nums)) #running lambda exp on each input in list\n",
    "\n",
    "#filter\n",
    "list(filter(lambda num: num%2==0,my_nums)) #filters out elements in my_nums that meet function criteria"
   ]
  },
  {
   "cell_type": "code",
   "execution_count": 78,
   "metadata": {},
   "outputs": [
    {
     "data": {
      "text/plain": [
       "['A', 'S', 'J']"
      ]
     },
     "execution_count": 78,
     "metadata": {},
     "output_type": "execute_result"
    }
   ],
   "source": [
    "#another example of mapping a lambda\n",
    "names=['Andy','Sally','Jose']\n",
    "list(map(lambda name: name[0],names))"
   ]
  },
  {
   "cell_type": "code",
   "execution_count": null,
   "metadata": {},
   "outputs": [],
   "source": []
  }
 ],
 "metadata": {
  "kernelspec": {
   "display_name": "Python 3",
   "language": "python",
   "name": "python3"
  },
  "language_info": {
   "codemirror_mode": {
    "name": "ipython",
    "version": 3
   },
   "file_extension": ".py",
   "mimetype": "text/x-python",
   "name": "python",
   "nbconvert_exporter": "python",
   "pygments_lexer": "ipython3",
   "version": "3.7.4"
  }
 },
 "nbformat": 4,
 "nbformat_minor": 2
}
