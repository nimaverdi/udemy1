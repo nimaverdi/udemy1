{
 "cells": [
  {
   "cell_type": "code",
   "execution_count": 1,
   "metadata": {},
   "outputs": [],
   "source": [
    "#Three elements\n",
    "\n",
    "#Creating a card class that takes a suit, rank and value\n",
    "#Create a deck class: 52 unique card classes in a deck\n",
    "#Player: pulls card to start game\n"
   ]
  },
  {
   "cell_type": "code",
   "execution_count": 2,
   "metadata": {},
   "outputs": [
    {
     "name": "stdout",
     "output_type": "stream",
     "text": [
      "Two of Hearts\n"
     ]
    }
   ],
   "source": [
    "#create card class\n",
    "\n",
    "class Card():\n",
    "    \n",
    "    def __init__(self,suit,rank):\n",
    "        self.suit=suit\n",
    "        self.rank=rank\n",
    "        \n",
    "    def __str__(self):\n",
    "        return self.rank + \" of \" + self.suit\n",
    "    \n",
    "ex = Card('Hearts','Two')\n",
    "print(ex)"
   ]
  },
  {
   "cell_type": "code",
   "execution_count": 3,
   "metadata": {},
   "outputs": [
    {
     "data": {
      "text/plain": [
       "2"
      ]
     },
     "execution_count": 3,
     "metadata": {},
     "output_type": "execute_result"
    }
   ],
   "source": [
    "#create a dictionary that relates rank to interger value\n",
    "\n",
    "d = {'Two':2, 'Three':3, 'Four':4, 'Five':5, 'Six':6, 'Seven':7, 'Eight':8,'Nine':9, 'Ten':10, 'Jack':11, 'Queen':12,'King':13,'Ace':14}\n",
    "\n",
    "d[ex.rank]\n"
   ]
  },
  {
   "cell_type": "code",
   "execution_count": 11,
   "metadata": {},
   "outputs": [
    {
     "name": "stdout",
     "output_type": "stream",
     "text": [
      "Three of Clubs\n"
     ]
    },
    {
     "data": {
      "text/plain": [
       "True"
      ]
     },
     "execution_count": 11,
     "metadata": {},
     "output_type": "execute_result"
    }
   ],
   "source": [
    "#since we have defined the values globally, we can reference them in card class\n",
    "\n",
    "class CardNew():\n",
    "    \n",
    "    def __init__(self,suit,rank): #note how value is not specified as an input\n",
    "        self.suit=suit\n",
    "        self.rank=rank\n",
    "        self.value = d[rank] #not self.rank\n",
    "        \n",
    "    def __str__(self):\n",
    "        return self.rank + \" of \" + self.suit\n",
    "    \n",
    "#create example: 3 of clubs\n",
    "\n",
    "three_of_clubs = CardNew('Clubs','Three')\n",
    "print(three_of_clubs)\n",
    "\n",
    "two_of_hearts = CardNew('Hearts','Two')\n",
    "\n",
    "#now that we have values, we can compare cards\n",
    "\n",
    "three_of_clubs.value\n",
    "\n",
    "three_of_clubs.value > two_of_hearts.value #comparison of cards"
   ]
  },
  {
   "cell_type": "code",
   "execution_count": 12,
   "metadata": {},
   "outputs": [],
   "source": [
    "# step 2) creating deck class\n",
    "\n",
    "import random #to shuffle deck\n",
    "\n",
    "suits = ('Hearts', 'Diamonds', 'Spades', 'Clubs')\n",
    "ranks = ('Two', 'Three', 'Four', 'Five', 'Six', 'Seven', 'Eight', 'Nine', 'Ten', 'Jack', 'Queen', 'King', 'Ace')\n",
    "values = {'Two':2, 'Three':3, 'Four':4, 'Five':5, 'Six':6, 'Seven':7, 'Eight':8, \n",
    "            'Nine':9, 'Ten':10, 'Jack':11, 'Queen':12, 'King':13, 'Ace':14}"
   ]
  },
  {
   "cell_type": "code",
   "execution_count": 57,
   "metadata": {},
   "outputs": [
    {
     "name": "stdout",
     "output_type": "stream",
     "text": [
      "Two of Hearts\n",
      "Ace of Clubs\n",
      "Two of Hearts\n",
      "Three of Hearts\n",
      "Four of Hearts\n",
      "Five of Hearts\n",
      "Six of Hearts\n",
      "Seven of Hearts\n",
      "Eight of Hearts\n",
      "Nine of Hearts\n",
      "Ten of Hearts\n",
      "Jack of Hearts\n",
      "Queen of Hearts\n",
      "King of Hearts\n",
      "Ace of Hearts\n",
      "Two of Diamonds\n",
      "Three of Diamonds\n",
      "Four of Diamonds\n",
      "Five of Diamonds\n",
      "Six of Diamonds\n",
      "Seven of Diamonds\n",
      "Eight of Diamonds\n",
      "Nine of Diamonds\n",
      "Ten of Diamonds\n",
      "Jack of Diamonds\n",
      "Queen of Diamonds\n",
      "King of Diamonds\n",
      "Ace of Diamonds\n",
      "Two of Spades\n",
      "Three of Spades\n",
      "Four of Spades\n",
      "Five of Spades\n",
      "Six of Spades\n",
      "Seven of Spades\n",
      "Eight of Spades\n",
      "Nine of Spades\n",
      "Ten of Spades\n",
      "Jack of Spades\n",
      "Queen of Spades\n",
      "King of Spades\n",
      "Ace of Spades\n",
      "Two of Clubs\n",
      "Three of Clubs\n",
      "Four of Clubs\n",
      "Five of Clubs\n",
      "Six of Clubs\n",
      "Seven of Clubs\n",
      "Eight of Clubs\n",
      "Nine of Clubs\n",
      "Ten of Clubs\n",
      "Jack of Clubs\n",
      "Queen of Clubs\n",
      "King of Clubs\n",
      "Ace of Clubs\n",
      "Two of Clubs\n",
      "Queen of Hearts\n",
      "King of Clubs\n",
      "Three of Clubs\n",
      "Five of Clubs\n",
      "Three of Diamonds\n",
      "Ace of Hearts\n",
      "Seven of Diamonds\n",
      "Two of Spades\n",
      "Ace of Spades\n",
      "Two of Diamonds\n",
      "Seven of Clubs\n",
      "Ten of Spades\n",
      "Three of Spades\n",
      "Ten of Clubs\n",
      "Ace of Clubs\n",
      "Four of Diamonds\n",
      "Nine of Diamonds\n",
      "Jack of Clubs\n",
      "Jack of Spades\n",
      "Six of Hearts\n",
      "Five of Diamonds\n",
      "Four of Hearts\n",
      "Two of Hearts\n",
      "Three of Hearts\n",
      "Six of Diamonds\n",
      "Queen of Clubs\n",
      "Ace of Diamonds\n",
      "Jack of Hearts\n",
      "Four of Clubs\n",
      "Six of Spades\n",
      "Seven of Spades\n",
      "Nine of Spades\n",
      "King of Diamonds\n",
      "Eight of Clubs\n",
      "Seven of Hearts\n",
      "Nine of Hearts\n",
      "Ten of Hearts\n",
      "Eight of Diamonds\n",
      "King of Spades\n",
      "Jack of Diamonds\n",
      "Queen of Diamonds\n",
      "Ten of Diamonds\n",
      "Six of Clubs\n",
      "King of Hearts\n",
      "Four of Spades\n",
      "Nine of Clubs\n",
      "Eight of Spades\n",
      "Five of Spades\n",
      "Queen of Spades\n",
      "Eight of Hearts\n",
      "Five of Hearts\n"
     ]
    },
    {
     "data": {
      "text/plain": [
       "51"
      ]
     },
     "execution_count": 57,
     "metadata": {},
     "output_type": "execute_result"
    }
   ],
   "source": [
    "class Deck():\n",
    "    \n",
    "    def __init__(self):\n",
    "        self.all_cards = []\n",
    "        \n",
    "        \n",
    "        for suit in suits:\n",
    "            for rank in ranks:\n",
    "                #create card objects here\n",
    "                created_card=CardNew(suit,rank)\n",
    "                \n",
    "                self.all_cards.append(created_card)\n",
    "    \n",
    "    def shuffle(self): #use random module here with random.shuffle()\n",
    "        random.shuffle(self.all_cards)\n",
    "        \n",
    "# now create method that pulls a card from the deck\n",
    "    \n",
    "    def deal_one(self):\n",
    "        return self.all_cards.pop()\n",
    "                \n",
    "\n",
    "#test it\n",
    "new_deck=Deck()\n",
    "new_deck.all_cards #this shows each card's position in memory\n",
    "first_card=new_deck.all_cards[0] #pull first card in the list\n",
    "print(first_card)\n",
    "\n",
    "last_card=new_deck.all_cards[51]\n",
    "print(last_card)\n",
    "\n",
    "for card in new_deck.all_cards: #print all cards\n",
    "    print(card)\n",
    "    \n",
    "#test shuffle\n",
    "new_deck.shuffle() #remember to include () when executing method\n",
    "for i in new_deck.all_cards:\n",
    "    print(i)\n",
    "    \n",
    "#test deal\n",
    "\n",
    "new_deck.deal_one() # this removes one card from the deck\n",
    "len(new_deck.all_cards)"
   ]
  },
  {
   "cell_type": "code",
   "execution_count": 58,
   "metadata": {},
   "outputs": [],
   "source": [
    "#Step 3) Create a player class\n"
   ]
  },
  {
   "cell_type": "code",
   "execution_count": 72,
   "metadata": {},
   "outputs": [],
   "source": [
    "\n",
    "class Player():\n",
    "    \n",
    "    def __init__(self,name):\n",
    "        self.name = name\n",
    "        self.all_cards = [] #player's list of cards. THey need to add/remove to this list\n",
    "        \n",
    "        \n",
    "    def remove_one(self):\n",
    "        return self.all_cards.pop(0)\n",
    "        \n",
    "    def add_cards(self,new_cards): #can be single card or several\n",
    "        if type(new_cards)==list:\n",
    "            self.all_cards.extend(new_cards) #if multiple cards\n",
    "        else:\n",
    "            self.all_cards.append(new_cards) #if single card\n",
    "        \n",
    "    \n",
    "    def __str__(self):\n",
    "        return f'Player {self.name} has {len(self.all_cards)}'\n",
    "        "
   ]
  },
  {
   "cell_type": "code",
   "execution_count": 69,
   "metadata": {},
   "outputs": [
    {
     "data": {
      "text/plain": [
       "list"
      ]
     },
     "execution_count": 69,
     "metadata": {},
     "output_type": "execute_result"
    }
   ],
   "source": [
    "type([1,2])"
   ]
  },
  {
   "cell_type": "code",
   "execution_count": null,
   "metadata": {},
   "outputs": [],
   "source": []
  }
 ],
 "metadata": {
  "kernelspec": {
   "display_name": "Python 3",
   "language": "python",
   "name": "python3"
  },
  "language_info": {
   "codemirror_mode": {
    "name": "ipython",
    "version": 3
   },
   "file_extension": ".py",
   "mimetype": "text/x-python",
   "name": "python",
   "nbconvert_exporter": "python",
   "pygments_lexer": "ipython3",
   "version": "3.8.3"
  }
 },
 "nbformat": 4,
 "nbformat_minor": 4
}
