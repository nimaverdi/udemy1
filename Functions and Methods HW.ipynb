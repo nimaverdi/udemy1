{
 "cells": [
  {
   "cell_type": "code",
   "execution_count": 1,
   "metadata": {},
   "outputs": [],
   "source": [
    "#FUNCTIONS AND METHODS: HOMEWORK"
   ]
  },
  {
   "cell_type": "code",
   "execution_count": null,
   "metadata": {},
   "outputs": [],
   "source": []
  },
  {
   "cell_type": "code",
   "execution_count": 11,
   "metadata": {},
   "outputs": [
    {
     "data": {
      "text/plain": [
       "33.510321638291124"
      ]
     },
     "execution_count": 11,
     "metadata": {},
     "output_type": "execute_result"
    }
   ],
   "source": [
    "#1) Volume of sphere\n",
    "\n",
    "# Vol = 4/3πr^3\n",
    "\n",
    "import math #need to import math module\n",
    "pi=math.pi\n",
    "\n",
    "def vol(rad):\n",
    "    return (4/3)*pi*rad**3\n",
    "\n",
    "# Check\n",
    "vol(2)"
   ]
  },
  {
   "cell_type": "code",
   "execution_count": 21,
   "metadata": {},
   "outputs": [
    {
     "data": {
      "text/plain": [
       "'true'"
      ]
     },
     "execution_count": 21,
     "metadata": {},
     "output_type": "execute_result"
    }
   ],
   "source": [
    "#2)\n",
    "\n",
    "list(range(0,5,1)) # range produces list of nrs from start to stop in increments\n",
    "\n",
    "def ran_check(num,low,high):\n",
    "    if num in range(low,high+1,1):\n",
    "        return 'true'\n",
    "    else:\n",
    "        return 'false'\n",
    "\n",
    "    \n",
    "#Check\n",
    "\n",
    "ran_check(2,0,10)\n",
    "    \n"
   ]
  },
  {
   "cell_type": "code",
   "execution_count": 55,
   "metadata": {},
   "outputs": [
    {
     "name": "stdout",
     "output_type": "stream",
     "text": [
      "up\n",
      "low\n",
      "low\n",
      "low\n",
      "low\n",
      "low\n",
      "low\n",
      "low\n",
      "low\n",
      "low\n"
     ]
    }
   ],
   "source": [
    "#3)\n",
    "\n",
    "s='Hello youuu'\n",
    "\n",
    "def up_down(word):\n",
    "    x=list(word)\n",
    "    for i in x:\n",
    "        if i.isupper() == True:\n",
    "            print('up')\n",
    "        elif i.islower() == True:\n",
    "            print('low')\n",
    "\n",
    "            \n",
    "        \n",
    "\n",
    "up_down(s)\n",
    "\n",
    "# See solutions for answer"
   ]
  },
  {
   "cell_type": "code",
   "execution_count": 64,
   "metadata": {},
   "outputs": [
    {
     "data": {
      "text/plain": [
       "[1, 2, 3, 4, 5]"
      ]
     },
     "execution_count": 64,
     "metadata": {},
     "output_type": "execute_result"
    }
   ],
   "source": [
    "#4) unique list\n",
    "\n",
    "def unique_list(lst):\n",
    "    x=[]\n",
    "    for a in lst:\n",
    "        if a not in x:\n",
    "            x.append(a)\n",
    "        else:\n",
    "            pass\n",
    "    return x\n",
    "        \n",
    "\n",
    "unique_list([1,1,1,1,2,2,3,3,3,3,4,5])"
   ]
  },
  {
   "cell_type": "code",
   "execution_count": 90,
   "metadata": {},
   "outputs": [
    {
     "data": {
      "text/plain": [
       "-24"
      ]
     },
     "execution_count": 90,
     "metadata": {},
     "output_type": "execute_result"
    }
   ],
   "source": [
    "#5)\n",
    "\n",
    "s=[1,2,3]\n",
    "\n",
    "def exp(list):\n",
    "    x=0\n",
    "    for i in s:\n",
    "        x=x+i\n",
    "    return x\n",
    "\n",
    "exp(s)\n",
    "\n",
    "# example of a cumulative sum\n",
    "    #define starting value of x as 0\n",
    "    #then, create for statement reassigning the value of as x + the i'th element\n",
    "    #value of x changes with each element iteration\n",
    "    \n",
    "#this exercise is making use of logic that multiplication is associative\n",
    "\n",
    "def multiple(numbers):\n",
    "    start=1\n",
    "    for i in numbers:\n",
    "        start=start*i\n",
    "    return start\n",
    "\n",
    "#Check\n",
    "multiple([1, 2, 3, -4])"
   ]
  },
  {
   "cell_type": "code",
   "execution_count": 136,
   "metadata": {},
   "outputs": [
    {
     "data": {
      "text/plain": [
       "True"
      ]
     },
     "execution_count": 136,
     "metadata": {},
     "output_type": "execute_result"
    }
   ],
   "source": [
    "#5)\n",
    "s='hello'\n",
    "s[::-1]\n",
    "#recall slicing has format [start:stop:step]\n",
    "#negative step reverses the slice\n",
    "\n",
    "\n",
    "\n",
    "def palindrome(s):\n",
    "    s_rev=s[::-1]\n",
    "    if s==s_rev:\n",
    "        return True\n",
    "    else:\n",
    "        return False\n",
    "    \n",
    "\n",
    "#Check\n",
    "palindrome('helleh')\n",
    "\n"
   ]
  },
  {
   "cell_type": "code",
   "execution_count": 131,
   "metadata": {},
   "outputs": [
    {
     "data": {
      "text/plain": [
       "'ciao'"
      ]
     },
     "execution_count": 131,
     "metadata": {},
     "output_type": "execute_result"
    }
   ],
   "source": [
    "# "
   ]
  },
  {
   "cell_type": "code",
   "execution_count": null,
   "metadata": {},
   "outputs": [],
   "source": []
  }
 ],
 "metadata": {
  "kernelspec": {
   "display_name": "Python 3",
   "language": "python",
   "name": "python3"
  },
  "language_info": {
   "codemirror_mode": {
    "name": "ipython",
    "version": 3
   },
   "file_extension": ".py",
   "mimetype": "text/x-python",
   "name": "python",
   "nbconvert_exporter": "python",
   "pygments_lexer": "ipython3",
   "version": "3.7.4"
  }
 },
 "nbformat": 4,
 "nbformat_minor": 2
}
