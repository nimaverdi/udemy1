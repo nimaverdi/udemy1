{
 "cells": [
  {
   "cell_type": "code",
   "execution_count": 1,
   "metadata": {},
   "outputs": [],
   "source": [
    "# IF, ELIF and ELSE statements\n",
    "\n",
    "#control flow: the order in which commands executed\n",
    "#allows us to execute code if only certain conditions met\n",
    "\n",
    "#control flow in Python uses colons and indentations (whitespace)"
   ]
  },
  {
   "cell_type": "code",
   "execution_count": 2,
   "metadata": {},
   "outputs": [
    {
     "ename": "IndentationError",
     "evalue": "expected an indented block (<ipython-input-2-85e90fa68dea>, line 5)",
     "output_type": "error",
     "traceback": [
      "\u001b[0;36m  File \u001b[0;32m\"<ipython-input-2-85e90fa68dea>\"\u001b[0;36m, line \u001b[0;32m5\u001b[0m\n\u001b[0;31m    elif some_other_condition:\u001b[0m\n\u001b[0m       ^\u001b[0m\n\u001b[0;31mIndentationError\u001b[0m\u001b[0;31m:\u001b[0m expected an indented block\n"
     ]
    }
   ],
   "source": [
    "#IF statement example\n",
    "\n",
    "if some_condition:\n",
    "    # execute code\n",
    "elif some_other_condition:\n",
    "    # do something different\n",
    "else:\n",
    "    # do something else\n",
    "    \n",
    "#what this says is if some_condition is true, execute the first #\n",
    "#otherwise if some_other_condition is true, do something different\n",
    "# if none of intial conditions met, execute the code in else\n",
    "\n",
    "#note how if/elif/else are aligned in indentatin, and so are cmmands"
   ]
  },
  {
   "cell_type": "code",
   "execution_count": 8,
   "metadata": {},
   "outputs": [
    {
     "name": "stdout",
     "output_type": "stream",
     "text": [
      "hi\n"
     ]
    }
   ],
   "source": [
    "#examples\n",
    "\n",
    "#if statements often used with comparison operators and booleans\n",
    "\n",
    "hungry=2\n",
    "if hungry>1:\n",
    "    print('hi')\n",
    "else:\n",
    "    print('0')\n",
    "\n"
   ]
  },
  {
   "cell_type": "code",
   "execution_count": null,
   "metadata": {},
   "outputs": [],
   "source": [
    "ret=2\n",
    "\n",
    "if ret>=20:\n",
    "    print('buy!')\n",
    "elif ret<20 and ret>=10:\n",
    "    print('buy')\n",
    "elif ret<10 and ret>=5:\n",
    "    print('buy?')\n",
    "else:\n",
    "    print('sell')\n",
    "    \n",
    "#you can add as many elif conditions as needed\n",
    "#recall indentation of conditions and commands must be aligned"
   ]
  },
  {
   "cell_type": "code",
   "execution_count": null,
   "metadata": {},
   "outputs": [],
   "source": [
    "#FOR loops\n",
    "\n",
    "#for loops used to iterate command across every element in an object\n",
    "#example: repeat the command over every element in list\n",
    "\n",
    "#general syntax:\n",
    "\n",
    "mylist=[1,2,3]\n",
    "for i in mylist:\n",
    "    print('hello')\n",
    "    \n",
    "#define a list as mylist\n",
    "#define variable i as placeholder for every element in list\n",
    "#for every element in mylist, print hello\n",
    "\n"
   ]
  },
  {
   "cell_type": "code",
   "execution_count": null,
   "metadata": {},
   "outputs": [],
   "source": [
    "mylist2=[1,2,3,4,5,6,7,8,9,10]\n",
    "\n",
    "for item in mylist2:\n",
    "    if item%2==0:\n",
    "        print(item)\n",
    "\n",
    "\n",
    "#print even numbers in list\n",
    "#for loops and if statements can be combined!\n",
    "#note that since you didn't specify what to print if condition false, it will only return true elements"
   ]
  },
  {
   "cell_type": "code",
   "execution_count": null,
   "metadata": {},
   "outputs": [],
   "source": [
    "#can also apply for loops to strings\n",
    "\n",
    "string='hello world'\n",
    "\n",
    "for letter in string:\n",
    "    print(letter+'i')\n",
    "    \n",
    "    \n",
    "#this will iterate command in iteration for each element in string\n",
    "\n"
   ]
  },
  {
   "cell_type": "code",
   "execution_count": 48,
   "metadata": {},
   "outputs": [
    {
     "name": "stdout",
     "output_type": "stream",
     "text": [
      "[(1, 2), (3, 4), (5, 6)]\n",
      "(1, 2)\n",
      "(3, 4)\n",
      "(5, 6)\n",
      "1\n",
      "2\n",
      "3\n",
      "4\n",
      "5\n",
      "6\n"
     ]
    }
   ],
   "source": [
    "#for loops with tuples (tuple unpacking)\n",
    "\n",
    "#recall tuples are unique collection of elements like lists, but immutable\n",
    "#it's common for elements of list to be tuples:\n",
    "\n",
    "mylist3=[(1,2),(3,4),(5,6)]\n",
    "print(mylist3)\n",
    "\n",
    "#each element of list is a tuple\n",
    "\n",
    "for t in mylist3:\n",
    "    print(t)\n",
    "    \n",
    "#instead we can access the elements in the tuple through \"tuple unpacking\":\n",
    "\n",
    "for (a,b) in mylist3:\n",
    "    print(a)\n",
    "    print(b)\n",
    "    \n",
    "#by replicating the tuple structure in for loop we can access individual elements of tuple rather than whole tuple\n",
    "\n",
    "\n"
   ]
  },
  {
   "cell_type": "code",
   "execution_count": 71,
   "metadata": {},
   "outputs": [
    {
     "name": "stdout",
     "output_type": "stream",
     "text": [
      "dict_items([('k1', 1), ('k2', 2), ('k3', 3)])\n",
      "k1\n",
      "k2\n",
      "k3\n",
      "('k1', 1)\n",
      "('k2', 2)\n",
      "('k3', 3)\n",
      "1\n",
      "2\n",
      "3\n"
     ]
    }
   ],
   "source": [
    "#FOR loops with dictionary\n",
    "\n",
    "#recall dictionary is key-value pair: each key associated with a value, e.g number of string\n",
    "\n",
    "d={'k1':1,'k2':2,'k3':3}\n",
    "print(d.items()) #print key-value pairs\n",
    "\n",
    "\n",
    "for key in d:\n",
    "    print(key)\n",
    "    \n",
    "#for every key in dict, return the key\n",
    "\n",
    "#we can also make for loop read the  whole key-value pair as element:\n",
    "\n",
    "for item in d.items():\n",
    "    print(item)\n",
    "    \n",
    "    \n",
    "#we can also use element unpacking for dictionaries:\n",
    "\n",
    "for key,value in d.items():\n",
    "    print(value)\n"
   ]
  },
  {
   "cell_type": "code",
   "execution_count": 6,
   "metadata": {},
   "outputs": [
    {
     "name": "stdout",
     "output_type": "stream",
     "text": [
      "the value of x is 0\n",
      "the value of x is 1\n",
      "the value of x is 2\n",
      "the value of x is 3\n",
      "the value of x is 4\n"
     ]
    }
   ],
   "source": [
    "#WHILE loops\n",
    "\n",
    "#while loop will execute code while some condition remains true\n",
    "\n",
    "#while some_boolean_condition:\n",
    "    #do something\n",
    "#else:\n",
    "    #do something else\n",
    "    \n",
    "#example:\n",
    "\n",
    "x=0\n",
    "\n",
    "while x<5:\n",
    "   print(f'the value of x is {x}')\n",
    "   x=x+1"
   ]
  },
  {
   "cell_type": "code",
   "execution_count": null,
   "metadata": {},
   "outputs": [],
   "source": [
    "#break, continue, pass\n",
    "\n",
    "#PASS: tells formula to pass previous code, so not execute it\n",
    "#this is useful when you have preliminary code you don't want to run yet\n",
    "\n",
    "#example:\n",
    "\n",
    "x=[1,2,3,4]\n",
    "\n",
    "for i in x:\n",
    "    pass\n",
    "\n",
    "#above for loop incomplete, but pass tells the code not to execute. otherwise you'd have error\n",
    "\n",
    "\n",
    "#CONTINUE\n",
    "\n",
    "#goes to the tp pf the closest enclosing loop\n",
    "#e.g tells code to skip an element:\n",
    "\n",
    "name='sammy'\n",
    "\n",
    "for letter in name:\n",
    "    print(letter)\n"
   ]
  },
  {
   "cell_type": "code",
   "execution_count": 4,
   "metadata": {},
   "outputs": [
    {
     "name": "stdout",
     "output_type": "stream",
     "text": [
      "s\n",
      "m\n",
      "m\n",
      "y\n"
     ]
    }
   ],
   "source": [
    "#CONTINUE\n",
    "\n",
    "#goes to the tp pf the closest enclosing loop\n",
    "#e.g tells code to skip an element:\n",
    "\n",
    "name = 'sammy'\n",
    "\n",
    "for letter in name:\n",
    "    if letter=='a':\n",
    "        continue\n",
    "    print(letter)\n",
    "    \n",
    "#so if letter in name is 'a', go to the top of loop, i.e iterate the next element\n",
    "\n"
   ]
  },
  {
   "cell_type": "code",
   "execution_count": null,
   "metadata": {},
   "outputs": [],
   "source": [
    "#BREAK\n",
    "\n",
    "#breaks out of closest enclosing loop\n",
    "#breaks the loop if certain condition met\n",
    "\n"
   ]
  },
  {
   "cell_type": "code",
   "execution_count": 1,
   "metadata": {},
   "outputs": [
    {
     "data": {
      "text/plain": [
       "[0, 1, 2, 3, 4, 5, 6, 7, 8, 9, 10]"
      ]
     },
     "execution_count": 1,
     "metadata": {},
     "output_type": "execute_result"
    }
   ],
   "source": [
    "#USEFUL OPERATORS\n",
    "\n",
    "#range\n",
    "#define a range of numbers\n",
    "#syntax: range(start,stop,step) where step optional\n",
    "\n",
    "list(range(0,11))\n",
    "\n",
    "#range is a generator - generates information"
   ]
  },
  {
   "cell_type": "code",
   "execution_count": 5,
   "metadata": {},
   "outputs": [
    {
     "name": "stdout",
     "output_type": "stream",
     "text": [
      "(0, 'm')\n",
      "(1, 'u')\n",
      "(2, 'f')\n",
      "(3, 'f')\n",
      "(4, 'i')\n",
      "(5, 'n')\n"
     ]
    }
   ],
   "source": [
    "#enumerate\n",
    "\n",
    "# allows us to loop over something and have an automatic counter.\n",
    "# returns index counter and object at that index\n",
    "\n",
    "word='muffin'\n",
    "\n",
    "for letter in enumerate(word):\n",
    "    print(letter)\n",
    "    \n",
    "#so it returns the index position and element value at that index\n",
    "#returns tuple so can use tuple unpacking"
   ]
  },
  {
   "cell_type": "code",
   "execution_count": null,
   "metadata": {},
   "outputs": [],
   "source": []
  }
 ],
 "metadata": {
  "kernelspec": {
   "display_name": "Python 3",
   "language": "python",
   "name": "python3"
  },
  "language_info": {
   "codemirror_mode": {
    "name": "ipython",
    "version": 3
   },
   "file_extension": ".py",
   "mimetype": "text/x-python",
   "name": "python",
   "nbconvert_exporter": "python",
   "pygments_lexer": "ipython3",
   "version": "3.7.4"
  }
 },
 "nbformat": 4,
 "nbformat_minor": 2
}
