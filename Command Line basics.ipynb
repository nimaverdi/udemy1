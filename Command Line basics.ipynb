{
 "cells": [
  {
   "cell_type": "code",
   "execution_count": null,
   "metadata": {},
   "outputs": [],
   "source": [
    "#command line\n",
    "\n",
    "#allows you to search through your PC's folders and files\n",
    "\n",
    "#key inputs:\n",
    "    # pwd: find current location\n",
    "    # ls: see all files in current directory\n",
    "    # cd: change directory, e.g cd Desktop\n",
    "    # clear: clear directory, start from scratch\n",
    "    "
   ]
  }
 ],
 "metadata": {
  "kernelspec": {
   "display_name": "Python 3",
   "language": "python",
   "name": "python3"
  },
  "language_info": {
   "codemirror_mode": {
    "name": "ipython",
    "version": 3
   },
   "file_extension": ".py",
   "mimetype": "text/x-python",
   "name": "python",
   "nbconvert_exporter": "python",
   "pygments_lexer": "ipython3",
   "version": "3.8.3"
  }
 },
 "nbformat": 4,
 "nbformat_minor": 4
}
