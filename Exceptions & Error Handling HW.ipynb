{
 "cells": [
  {
   "cell_type": "code",
   "execution_count": 3,
   "metadata": {},
   "outputs": [
    {
     "name": "stdout",
     "output_type": "stream",
     "text": [
      "invalid calculation\n"
     ]
    }
   ],
   "source": [
    "#Problem 1\n",
    "\n",
    "try:\n",
    "    for i in ['a','b','c']:\n",
    "        print(i**2)\n",
    "except:\n",
    "    print('invalid calculation')\n",
    "    "
   ]
  },
  {
   "cell_type": "code",
   "execution_count": 7,
   "metadata": {},
   "outputs": [
    {
     "name": "stdout",
     "output_type": "stream",
     "text": [
      "cannot divide by 0\n",
      "All done\n"
     ]
    }
   ],
   "source": [
    "#Problem 2\n",
    "\n",
    "try:\n",
    "    x = 5\n",
    "    y = 0\n",
    "\n",
    "    z=x/y\n",
    "\n",
    "except ZeroDivisionError:\n",
    "    print('cannot divide by 0')\n",
    "\n",
    "except:\n",
    "    print('Other error')\n",
    "    \n",
    "finally:\n",
    "    print('All done')"
   ]
  },
  {
   "cell_type": "code",
   "execution_count": 25,
   "metadata": {},
   "outputs": [
    {
     "name": "stdout",
     "output_type": "stream",
     "text": [
      "Please enter a numberf\n",
      "That's not a valid. Try again.\n",
      "Please enter a numberd\n",
      "That's not a valid. Try again.\n",
      "Please enter a number2\n"
     ]
    },
    {
     "data": {
      "text/plain": [
       "4"
      ]
     },
     "execution_count": 25,
     "metadata": {},
     "output_type": "execute_result"
    }
   ],
   "source": [
    "#Problem 3\n",
    "\n",
    "def ask():\n",
    "    \n",
    "    while True:\n",
    "        try: #run this code\n",
    "            number = int(input('Please enter a number'))\n",
    "            return number**2\n",
    "        except: #if it returns an error run this code and repeat the block\n",
    "            print(\"That's not a valid. Try again.\")\n",
    "            \n",
    "        else: #if there is no error, break the while\n",
    "            break\n",
    "            \n",
    "    print(n)\n",
    "\n",
    "\n",
    "ask()\n"
   ]
  },
  {
   "cell_type": "code",
   "execution_count": null,
   "metadata": {},
   "outputs": [],
   "source": []
  },
  {
   "cell_type": "code",
   "execution_count": null,
   "metadata": {},
   "outputs": [],
   "source": []
  }
 ],
 "metadata": {
  "kernelspec": {
   "display_name": "Python 3",
   "language": "python",
   "name": "python3"
  },
  "language_info": {
   "codemirror_mode": {
    "name": "ipython",
    "version": 3
   },
   "file_extension": ".py",
   "mimetype": "text/x-python",
   "name": "python",
   "nbconvert_exporter": "python",
   "pygments_lexer": "ipython3",
   "version": "3.8.3"
  }
 },
 "nbformat": 4,
 "nbformat_minor": 4
}
