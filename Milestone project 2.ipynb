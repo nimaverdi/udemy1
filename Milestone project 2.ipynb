{
 "cells": [
  {
   "cell_type": "code",
   "execution_count": 1,
   "metadata": {},
   "outputs": [],
   "source": [
    "#Three elements\n",
    "\n",
    "#Creating a card class that takes a suit, rank and value\n",
    "#Create a deck class: 52 unique card classes in a deck\n",
    "#Player: pulls card to start game\n"
   ]
  },
  {
   "cell_type": "code",
   "execution_count": 21,
   "metadata": {},
   "outputs": [
    {
     "name": "stdout",
     "output_type": "stream",
     "text": [
      "Two of Hearts\n"
     ]
    }
   ],
   "source": [
    "#create card class\n",
    "\n",
    "class Card():\n",
    "    \n",
    "    def __init__(self,suit,rank):\n",
    "        self.suit=suit\n",
    "        self.rank=rank\n",
    "        \n",
    "    def __str__(self):\n",
    "        return self.rank + \" of \" + self.suit\n",
    "    \n",
    "ex = Card('Hearts','Two')\n",
    "print(ex)"
   ]
  },
  {
   "cell_type": "code",
   "execution_count": 18,
   "metadata": {},
   "outputs": [
    {
     "data": {
      "text/plain": [
       "2"
      ]
     },
     "execution_count": 18,
     "metadata": {},
     "output_type": "execute_result"
    }
   ],
   "source": [
    "#create a dictionary that relates rank to interger value\n",
    "\n",
    "d = {'Two':2, 'Three':3, 'Four':4, 'Five':5, 'Six':6, 'Seven':7, 'Eight':8,'Nine':9, 'Ten':10, 'Jack':11, 'Queen':12,'King':13,'Ace':14}\n",
    "\n",
    "d[ex.rank]\n"
   ]
  },
  {
   "cell_type": "code",
   "execution_count": 31,
   "metadata": {},
   "outputs": [
    {
     "name": "stdout",
     "output_type": "stream",
     "text": [
      "Three of Clubs\n"
     ]
    },
    {
     "data": {
      "text/plain": [
       "True"
      ]
     },
     "execution_count": 31,
     "metadata": {},
     "output_type": "execute_result"
    }
   ],
   "source": [
    "#since we have defined the values globally, we can reference them in card class\n",
    "\n",
    "class Card():\n",
    "    \n",
    "    def __init__(self,suit,rank): #note how value is not specified as an input\n",
    "        self.suit=suit\n",
    "        self.rank=rank\n",
    "        self.value = d[rank] #not self.rank\n",
    "        \n",
    "    def __str__(self):\n",
    "        return self.rank + \" of \" + self.suit\n",
    "    \n",
    "#create example: 3 of clubs\n",
    "\n",
    "three_of_clubs = Card('Clubs','Three')\n",
    "print(three_of_clubs)\n",
    "\n",
    "two_of_hearts = Card('Hearts','Two')\n",
    "\n",
    "#now that we have values, we can compare cards\n",
    "\n",
    "three_of_clubs.value\n",
    "\n",
    "three_of_clubs.value > two_of_hearts.value #comparison of cards"
   ]
  },
  {
   "cell_type": "code",
   "execution_count": null,
   "metadata": {},
   "outputs": [],
   "source": []
  }
 ],
 "metadata": {
  "kernelspec": {
   "display_name": "Python 3",
   "language": "python",
   "name": "python3"
  },
  "language_info": {
   "codemirror_mode": {
    "name": "ipython",
    "version": 3
   },
   "file_extension": ".py",
   "mimetype": "text/x-python",
   "name": "python",
   "nbconvert_exporter": "python",
   "pygments_lexer": "ipython3",
   "version": "3.8.3"
  }
 },
 "nbformat": 4,
 "nbformat_minor": 4
}
