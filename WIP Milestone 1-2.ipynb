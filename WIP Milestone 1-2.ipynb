{
 "cells": [
  {
   "cell_type": "code",
   "execution_count": null,
   "metadata": {},
   "outputs": [
    {
     "name": "stdout",
     "output_type": "stream",
     "text": [
      "Player 1, are you X or O?X\n",
      "Player 1, are you X or O?'X'\n",
      "Player 1, are you X or O?\"X\"\n"
     ]
    }
   ],
   "source": [
    "#define player 1 and 2 markers:\n",
    "\n",
    "prompt=input('Player 1, are you X or O?')\n",
    "\n",
    "while prompt!='X' or prompt!='O':\n",
    "    input('Player 1, are you X or O?')\n",
    "else:\n",
    "    if prompt=='X':\n",
    "        player1_marker='X'\n",
    "        player2_marker='O'\n",
    "    elif prompt=='O':\n",
    "        player1_marker='O'\n",
    "        player2_marker='X'\n",
    "    else:\n",
    "        pass\n",
    "        \n",
    "\n",
    "#isolate problem: assign user input to position\n",
    "\n",
    "marker=[\"\",\"\",\"\",\"\",\"\",\"\",\"\",\"\",\"\",\"\"]\n",
    "board=[1,2,3,4,5,6,7,8,9]\n",
    "\n",
    "d=dict(zip(board,marker))\n",
    "\n",
    "def game_sequence(d):\n",
    "    #define board position indexing\n",
    "    marker=[\"\",\"\",\"\",\"\",\"\",\"\",\"\",\"\",\"\",\"\"]\n",
    "    board=[1,2,3,4,5,6,7,8,9]\n",
    "\n",
    "    d=dict(zip(board,marker))\n",
    "    \n",
    "    #take player move input:\n",
    "    move=input('Player 1, make your move')\n",
    "    x=int(move)\n",
    "    d[x]=player1_marker #to be integrated\n",
    "    d\n",
    "    \n",
    "print(d[1]+'|'+d[2]+'|'+d[3])\n"
   ]
  },
  {
   "cell_type": "code",
   "execution_count": null,
   "metadata": {},
   "outputs": [],
   "source": []
  },
  {
   "cell_type": "code",
   "execution_count": null,
   "metadata": {},
   "outputs": [],
   "source": []
  }
 ],
 "metadata": {
  "kernelspec": {
   "display_name": "Python 3",
   "language": "python",
   "name": "python3"
  },
  "language_info": {
   "codemirror_mode": {
    "name": "ipython",
    "version": 3
   },
   "file_extension": ".py",
   "mimetype": "text/x-python",
   "name": "python",
   "nbconvert_exporter": "python",
   "pygments_lexer": "ipython3",
   "version": "3.7.6"
  }
 },
 "nbformat": 4,
 "nbformat_minor": 4
}
